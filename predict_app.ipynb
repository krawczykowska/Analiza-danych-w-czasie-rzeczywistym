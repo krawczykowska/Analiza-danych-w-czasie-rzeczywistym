{
 "cells": [
  {
   "cell_type": "code",
   "execution_count": null,
   "metadata": {},
   "outputs": [],
   "source": [
    "%%file predict_app.py\n",
    "\n",
    "from flask import Flask, request, jsonify\n",
    "\n",
    "app = Flask(__name__)\n",
    "\n",
    "@app.route('/api/v1.0/predict', methods=['GET'])\n",
    "def predict():\n",
    "    try:\n",
    "        a = float(request.args.get('a', 0))\n",
    "    except ValueError:\n",
    "        a = 0\n",
    "    try:\n",
    "        b = float(request.args.get('b', 0))\n",
    "    except ValueError:\n",
    "        b = 0\n",
    "\n",
    "    # decyzja\n",
    "    result = 1 if (a + b) > 5.8 else 0\n",
    "\n",
    "    # JSON\n",
    "    return jsonify({\n",
    "        \"prediction\": result,\n",
    "        \"features\": {\"a\": a, \"b\": b}\n",
    "    })\n",
    "\n",
    "if __name__ == '__main__':\n",
    "    app.run()"
   ]
  },
  {
   "cell_type": "code",
   "execution_count": null,
   "metadata": {},
   "outputs": [],
   "source": [
    "import requests\n",
    "\n",
    "url = \"http://127.0.0.1:5000/api/v1.0/predict\"\n",
    "params = {\"a\": 3.2, \"b\": 6}\n",
    "\n",
    "res = requests.get(url, params=params)\n",
    "\n",
    "print(res.status_code)\n",
    "print(res.json())"
   ]
  }
 ],
 "metadata": {
  "language_info": {
   "name": "python"
  }
 },
 "nbformat": 4,
 "nbformat_minor": 2
}
